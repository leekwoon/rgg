{
 "cells": [
  {
   "cell_type": "code",
   "execution_count": 5,
   "id": "a3c0f73a-0607-4bf8-a7db-419f28050379",
   "metadata": {},
   "outputs": [],
   "source": [
    "import pandas as pd\n",
    "import numpy as np\n",
    "from matplotlib import pyplot as plt\n",
    "from matplotlib import cm\n",
    "from matplotlib.colors import ListedColormap\n",
    "from matplotlib import gridspec\n",
    "\n",
    "import torch\n",
    "\n",
    "from captum.attr import (\n",
    "    LayerGradCam,\n",
    "    LayerAttribution,\n",
    "    IntegratedGradients,\n",
    "    Lime\n",
    ")\n",
    "\n",
    "from rgg.diffuser_utils import get_dataset\n",
    "from rgg.datasets import GapPredictorDataset\n",
    "from rgg.gap_predictor import get_gap_predictor\n",
    "from rgg.plot_utils import plot_maze2d, plot_maze2d_observations, plot_maze2d_observations_with_attribution"
   ]
  },
  {
   "cell_type": "code",
   "execution_count": 4,
   "id": "39288b9d-7214-49d2-b166-d92b1d3fe0f1",
   "metadata": {},
   "outputs": [
    {
     "name": "stderr",
     "output_type": "stream",
     "text": [
      "Cannot initialize model with low cpu memory usage because `accelerate` was not found in the environment. Defaulting to `low_cpu_mem_usage=False`. It is strongly recommended to install `accelerate` for faster and less memory-intense model loading. You can do so with: \n",
      "```\n",
      "pip install accelerate\n",
      "```\n",
      ".\n",
      "load datafile: 100%|███████████████████████████████████████████████████████| 8/8 [00:01<00:00,  6.06it/s]\n"
     ]
    },
    {
     "name": "stdout",
     "output_type": "stream",
     "text": [
      "[ utils/preprocessing ] Segmented maze2d-large-v1 | 1061 paths | min length: 67 | max length: 30470\n",
      "[ datasets/buffer ] Finalized replay buffer | 1062 episodes\n",
      "[ datasets/buffer ] Fields:\n",
      "    actions: (1062, 40000, 2)\n",
      "    infos/goal: (1062, 40000, 2)\n",
      "    infos/qpos: (1062, 40000, 2)\n",
      "    infos/qvel: (1062, 40000, 2)\n",
      "    observations: (1062, 40000, 4)\n",
      "    rewards: (1062, 40000, 1)\n",
      "    terminals: (1062, 40000, 1)\n",
      "    timeouts: (1062, 40000, 1)\n",
      "    next_observations: (1062, 40000, 4)\n",
      "    normed_observations: (1062, 40000, 4)\n",
      "    normed_actions: (1062, 40000, 2)\n"
     ]
    }
   ],
   "source": [
    "class Args:\n",
    "    env_name = 'maze2d-large-v1'\n",
    "    data_path = '../../logs/data/maze2d-large-v1-H384-T256/500000_finish.npz'\n",
    "    score_path = '../../logs/data/maze2d-large-v1-H384-T256/500000_finish_restoration_gaps.npy'\n",
    "    planning_horizon = 384\n",
    "    device = 'cuda'\n",
    "    gap_predictor_path = '../../logs/gap_predictor/maze2d-large-v1-H384-T256/500000_finish/2023_03_26_03_44_06/seed_0/state_best.pt'\n",
    "    \n",
    "args = Args()\n",
    "\n",
    "gap_predictor = get_gap_predictor('maze2d-large-v1').to(args.device)\n",
    "gap_predictor.load_state_dict(\n",
    "    torch.load(args.gap_predictor_path)['model']\n",
    ")\n",
    "\n",
    "# XAI methods ...\n",
    "cam = LayerGradCam(gap_predictor, gap_predictor.backbone.mid_block)\n",
    "\n",
    "normalizer = get_dataset(args.env_name).normalizer\n",
    "test_dataset = GapPredictorDataset(\n",
    "    args.env_name, \n",
    "    args.data_path,\n",
    "    args.score_path,\n",
    "    normalizer, \n",
    "    cutoff=0.03, # small values to see extreme cases\n",
    "    mode='test'\n",
    ")"
   ]
  },
  {
   "cell_type": "code",
   "execution_count": 9,
   "id": "4eca74da-6396-4a90-840e-0250359fb7ad",
   "metadata": {},
   "outputs": [],
   "source": [
    "data = np.load(args.data_path)\n",
    "plan_observations = data['plan_observations']\n",
    "plan_actions = data['plan_actions']\n",
    "restoration_gaps = np.load(args.score_path)\n",
    "\n",
    "sorted_idxs = np.argsort(restoration_gaps)[::-1] \n",
    "x_obs = plan_observations[sorted_idxs[:1000]]\n",
    "x_obs = normalizer.normalize(x_obs, 'observations')\n",
    "x_actions = plan_actions[sorted_idxs[:1000]]\n",
    "x_actions = normalizer.normalize(x_actions, 'actions')\n",
    "xs = np.concatenate([x_actions, x_obs], axis=-1)"
   ]
  },
  {
   "cell_type": "code",
   "execution_count": 14,
   "id": "9d1a5e71-3dd3-4a2a-8a50-61379338b000",
   "metadata": {},
   "outputs": [
    {
     "data": {
      "text/plain": [
       "(0.4, 10.6, 7.6, 0.4)"
      ]
     },
     "execution_count": 14,
     "metadata": {},
     "output_type": "execute_result"
    },
    {
     "data": {
      "image/png": "[encoded data removed]",
      "text/plain": [
       "<Figure size 500x500 with 1 Axes>"
      ]
     },
     "metadata": {},
     "output_type": "display_data"
    }
   ],
   "source": [
    "i = 137\n",
    "\n",
    "fig, ax = plt.subplots(1, 1, figsize=(5, 5))\n",
    "\n",
    "timesteps = torch.tensor([0], device='cuda').long()\n",
    "x = torch.tensor(xs[i][None, :], device='cuda')\n",
    "\n",
    "attributions = cam.attribute(\n",
    "    x.permute(0, 2, 1), \n",
    "    target=0, \n",
    "    additional_forward_args=timesteps,\n",
    ")\n",
    "\n",
    "if attributions.shape[-1] < args.planning_horizon:\n",
    "    attributions = LayerAttribution.interpolate(attributions, (args.planning_horizon), interpolate_mode='linear')\n",
    "attributions = attributions.permute(0, 2, 1)\n",
    "attributions = torch.abs(attributions)\n",
    "attributions = attributions.sum(axis=-1)\n",
    "attributions = attributions.detach().cpu().numpy()\n",
    "\n",
    "observations = normalizer.unnormalize(x[:, :, 2:].detach().cpu().numpy(), 'observations')\n",
    "observations = observations[0]\n",
    "attribution = attributions[0]\n",
    "\n",
    "plot_maze2d('maze2d-large-v1', ax, fix_xy_lim=True)\n",
    "plot_maze2d_observations_with_attribution(\n",
    "    observations, attribution, ax=ax, goal=observations[-1, :2],\n",
    ")\n",
    "ax.axis('off')"
   ]
  }
 ],
 "metadata": {
  "kernelspec": {
   "display_name": "rgg",
   "language": "python",
   "name": "rgg"
  },
  "language_info": {
   "codemirror_mode": {
    "name": "ipython",
    "version": 3
   },
   "file_extension": ".py",
   "mimetype": "text/x-python",
   "name": "python",
   "nbconvert_exporter": "python",
   "pygments_lexer": "ipython3",
   "version": "3.8.16"
  }
 },
 "nbformat": 4,
 "nbformat_minor": 5
}
